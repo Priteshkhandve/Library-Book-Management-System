{
 "cells": [
  {
   "cell_type": "code",
   "execution_count": 1,
   "id": "a8fee7b4",
   "metadata": {},
   "outputs": [],
   "source": [
    "from tkinter import *\n",
    "import sqlite3\n",
    "import tkinter.ttk as ttk\n",
    "import tkinter.messagebox as tkmessagebox"
   ]
  },
  {
   "cell_type": "code",
   "execution_count": 2,
   "id": "5c173bc9",
   "metadata": {},
   "outputs": [
    {
     "data": {
      "text/plain": [
       "''"
      ]
     },
     "execution_count": 2,
     "metadata": {},
     "output_type": "execute_result"
    }
   ],
   "source": [
    "root = Tk()\n",
    "root.title('.....Library Book Management Application.....')"
   ]
  },
  {
   "cell_type": "code",
   "execution_count": 3,
   "id": "96a408d4",
   "metadata": {},
   "outputs": [],
   "source": [
    "def Database():\n",
    "    global conn, cursor\n",
    "    conn = sqlite3.connect('books.db')\n",
    "    cursor = conn.cursor()\n",
    "    cursor.execute('CREATE TABLE IF NOT EXISTS library (Booktitle TEXT ,Author TEXT ,Year INTEGER ,ISBN TEXT)')"
   ]
  },
  {
   "cell_type": "code",
   "execution_count": 4,
   "id": "0cc3b0ea",
   "metadata": {},
   "outputs": [],
   "source": [
    "def Create():\n",
    "    if Booktitle.get() ==\"\" or Author.get() == \"\" or Year.get() == \"\" or ISBN.get() == \"\":\n",
    "        txt_result.config(text = 'Please enter all the fields',bg=\"red\")\n",
    "    else:\n",
    "        Database()\n",
    "        cursor.execute(\"INSERT INTO library (Booktitle,Author,Year,ISBN) VALUES(?,?,?,?)\",(str(Booktitle.get()),str(Author.get()),int(Year.get()),str(ISBN.get())))\n",
    "        conn.commit()\n",
    "        Booktitle.set(\"\")\n",
    "        Author.set(\"\")                                                                                                                                            \n",
    "        Year.set(\"\")                                                                                                                                                \n",
    "        ISBN.set(\"\")\n",
    "        cursor.close()  \n",
    "        conn.close()                                                                                                                                            \n",
    "        txt_result.config(text='Record Inserted !',fg=\"green\") \n",
    "         \n",
    "def Read():\n",
    "      tree.delete(*tree.get_children())                                                                                                                                           \n",
    "      Database()                                                                                                                                           \n",
    "      cursor.execute(\"SELECT * FROM library ORDER BY Author \")                                                                                                                                           \n",
    "      fetch = cursor.fetchall()                                                                                                                                          \n",
    "      for data in fetch:                                                                                                                                           \n",
    "          tree.insert('','end',values=(data[0],data[1],data[2],data[3]))                                                                                                                                       \n",
    "      cursor.close()                                                                                                                                           \n",
    "      txt_result.config(text=\"Successfully fetched Data !\",fg=\"black\")         \n",
    "        \n",
    "def Update():\n",
    "    conn = sqlite3.connect('books.db')\n",
    "    cursor = conn.cursor()\n",
    "    Booktitle = e1.get()\n",
    "    Author = e2.get()                                                                                                                                            \n",
    "    Year = e3.get()                                                                                                                                                \n",
    "    ISBN = e4.get()\n",
    "    cursor.execute(\"UPDATE  library SET Booktitle = '%s',Author = '%s',Year = '%s',ISBN = '%s' \"%(Booktitle,Author,Year,ISBN))\n",
    "    conn.commit() \n",
    "    conn.close()                                                                                                                                            \n",
    "    txt_result.config(text='Record Updated !',fg=\"green\") \n",
    "    \n",
    "def Delete():\n",
    "    conn = sqlite3.connect('books.db')\n",
    "    cursor = conn.cursor()\n",
    "    cursor.execute(\"DELETE FROM library\")\n",
    "    conn.commit()\n",
    "    conn.close\n",
    "    txt_result.config(text=\"Successfully Deleted Data !\",fg=\"black\")  \n",
    "    \n",
    "                                                                                                                                                                                                                                                                                         \n",
    "def Exit():                                                                                                                                                 \n",
    "     result = tkmessagebox.askquestion('Do you want to exit ? (y/n)',icon='warning')                                                                                                                                            \n",
    "     if result == 'yes':  \n",
    "         root.destroy()\n",
    "         exit()                                                                                                                                            \n",
    "                                                                                                                                                 \n",
    "                                                                                                                                       "
   ]
  },
  {
   "cell_type": "code",
   "execution_count": 5,
   "id": "539c4b10",
   "metadata": {},
   "outputs": [],
   "source": [
    "Booktitle = StringVar()\n",
    "Author = StringVar()\n",
    "Year = IntVar()\n",
    "ISBN = StringVar()"
   ]
  },
  {
   "cell_type": "code",
   "execution_count": 6,
   "id": "e618cf0a",
   "metadata": {},
   "outputs": [],
   "source": [
    "Top = Frame(root,width=900, height=50, bd=8, relief='raise',highlightbackground='blue',highlightthickness=5)\n",
    "Top.pack(side=TOP)\n",
    "Left = Frame(root,width=300,height=500,bd=8,relief='raise',background='red')\n",
    "Left.pack(side=LEFT)\n",
    "Right = Frame(root,width=600,height=500,bd=8,relief='raise',highlightbackground='yellow',highlightthickness=5)\n",
    "Right.pack(side=RIGHT)\n",
    "\n",
    "Forms = Frame(Left,width=300,height=450)\n",
    "Forms.pack(side=TOP)\n",
    "\n",
    "Buttons=Frame(Left,width=300,height=100,bd=8,relief='raise')\n",
    "Buttons.pack(side=BOTTOM)"
   ]
  },
  {
   "cell_type": "code",
   "execution_count": 7,
   "id": "6336e96c",
   "metadata": {},
   "outputs": [],
   "source": [
    "txt_title = Label (Top, width=900, font=('arial', 24), text = \".....Library Management Application.....\")\n",
    "txt_title.pack()\n",
    "txt_Booktitle = Label (Forms, text=\"Booktitle:\", font=('arial', 16), bd=15)\n",
    "txt_Booktitle.grid (row=0,stick=\"e\")\n",
    "txt_Author = Label (Forms, text=\"Author:\", font=('arial', 16), bd=15)\n",
    "txt_Author.grid(row=1,stick=\"e\")\n",
    "txt_Year = Label (Forms, text=\"Year:\", font= ('arial', 16), bd=15)\n",
    "txt_Year.grid(row=2,stick=\"e\")\n",
    "txt_ISBN = Label (Forms, text=\"ISBN:\", font=('arial', 16), bd=15)\n",
    "txt_ISBN.grid(row=3,stick=\"e\")\n",
    "txt_result = Label (Buttons)\n",
    "txt_result.pack(side=TOP)"
   ]
  },
  {
   "cell_type": "code",
   "execution_count": 8,
   "id": "6f822229",
   "metadata": {},
   "outputs": [],
   "source": [
    "e1= Entry(Forms,textvariable=Booktitle, width=30)\n",
    "e1.grid(row=0, column=1)\n",
    "e2= Entry(Forms,textvariable=Author, width=30)\n",
    "e2.grid(row=1, column=1)\n",
    "e3 = Entry(Forms, textvariable=Year, width=30)\n",
    "e3.grid(row=2, column=1)\n",
    "e4 = Entry(Forms, textvariable=ISBN, width=30)\n",
    "e4.grid(row=3, column=1)\n"
   ]
  },
  {
   "cell_type": "code",
   "execution_count": 9,
   "id": "1ef1d3a5",
   "metadata": {},
   "outputs": [],
   "source": [
    "btn_create = Button(Buttons, width=10, text=\"Create\", command=Create)\n",
    "btn_create.pack(side=LEFT)\n",
    "btn_read = Button(Buttons, width=10, text=\"Read\", command=Read)\n",
    "btn_read.pack(side=LEFT)\n",
    "btn_update = Button(Buttons, width=10, text=\"Update\", command=Update )\n",
    "btn_update.pack(side=LEFT)\n",
    "btn_delete = Button(Buttons, width=10, text=\"Delete\", command=Delete ) \n",
    "btn_delete.pack(side=LEFT)\n",
    "btn_exit = Button(Buttons, width=10, text=\"Exit\", command=Exit) \n",
    "btn_exit.pack(side=LEFT)"
   ]
  },
  {
   "cell_type": "code",
   "execution_count": 10,
   "id": "0fbb3241",
   "metadata": {},
   "outputs": [],
   "source": [
    "scrollbary = Scrollbar(Right, orient=VERTICAL)\n",
    "scrollbarx = Scrollbar(Right, orient=HORIZONTAL)\n",
    "\n",
    "tree = ttk.Treeview(Right, columns= (\"Booktitle\",\"Author\",\"Year\",\"ISBN\"))\n",
    "\n",
    "scrollbary.config(command=tree.yview)\n",
    "scrollbary.pack(side=RIGHT, fill=Y)\n",
    "scrollbarx.config(command=tree.xview)\n",
    "scrollbarx.pack(side=BOTTOM, fill=X)\n",
    "tree.heading ('Booktitle', text=\"Booktitle\", anchor=W)\n",
    "tree.heading( 'Author', text=\"Author\", anchor=W)\n",
    "tree.heading ('Year',text=\"Year\", anchor=W)\n",
    "tree.heading( 'ISBN',text=\"ISBN\", anchor=W)\n",
    "tree.column('#0',stretch=NO, minwidth=0, width=0)\n",
    "tree.column('#1',stretch=NO, minwidth=0, width=80)\n",
    "tree.column('#2',stretch=NO, minwidth=0, width=120)\n",
    "tree.column('#3', stretch=NO, minwidth=0, width=80)\n",
    "tree.column('#4',stretch=NO, minwidth=0, width=150)\n",
    "tree.pack()\n",
    "\n",
    "if __name__=='__main__':\n",
    "    root.mainloop()\n"
   ]
  },
  {
   "cell_type": "code",
   "execution_count": null,
   "id": "28c97582",
   "metadata": {},
   "outputs": [],
   "source": []
  },
  {
   "cell_type": "code",
   "execution_count": null,
   "id": "bd0cb6d5",
   "metadata": {},
   "outputs": [],
   "source": []
  }
 ],
 "metadata": {
  "kernelspec": {
   "display_name": "Python 3 (ipykernel)",
   "language": "python",
   "name": "python3"
  },
  "language_info": {
   "codemirror_mode": {
    "name": "ipython",
    "version": 3
   },
   "file_extension": ".py",
   "mimetype": "text/x-python",
   "name": "python",
   "nbconvert_exporter": "python",
   "pygments_lexer": "ipython3",
   "version": "3.9.12"
  }
 },
 "nbformat": 4,
 "nbformat_minor": 5
}
